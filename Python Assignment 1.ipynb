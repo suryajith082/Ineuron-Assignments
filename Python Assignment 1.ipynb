{
 "cells": [
  {
   "cell_type": "markdown",
   "metadata": {},
   "source": [
    "1. Write a program which will find all such numbers which are divisible by 7 but are not a multiple of 5, between 2000 and 3200 (both included). The numbers obtained should be printed\n",
    "in a comma-separated sequence on a single line."
   ]
  },
  {
   "cell_type": "code",
   "execution_count": 25,
   "metadata": {},
   "outputs": [
    {
     "name": "stdout",
     "output_type": "stream",
     "text": [
      "\n",
      "\n",
      "Numbers which are divisible by 7 but are not a multiple of 5, between 2000 and 3200:-  \n",
      "\n",
      "2030,2065,2100,2135,2170,2205,2240,2275,2310,2345,2380,2415,2450,2485,2520,2555,2590,2625,2660,2695,2730,2765,2800,2835,2870,2905,2940,2975,3010,3045,3080,3115,3150,3185\n",
      "\n",
      "\n"
     ]
    }
   ],
   "source": [
    "nl=[]\n",
    "for x in range(2000, 3200):\n",
    "    if (x%7==0) and (x%5==0):\n",
    "        nl.append(str(x))\n",
    "print(\"\\n\")\n",
    "print(\"Numbers which are divisible by 7 but are not a multiple of 5, between 2000 and 3200:-  \\n\")\n",
    "print (','.join(nl))\n",
    "print(\"\\n\")"
   ]
  },
  {
   "cell_type": "markdown",
   "metadata": {},
   "source": [
    "."
   ]
  },
  {
   "cell_type": "markdown",
   "metadata": {},
   "source": [
    "2.Write a Python program to accept the user's first and last name and then getting them printed in the the reverse order with a space between first name and last name."
   ]
  },
  {
   "cell_type": "code",
   "execution_count": 26,
   "metadata": {},
   "outputs": [
    {
     "name": "stdout",
     "output_type": "stream",
     "text": [
      "\n",
      "\n",
      "Enter First Name:\n",
      "Suryajith\n",
      "\n",
      "\n",
      "Enter Second Name:\n",
      "Nair\n",
      "\n",
      "\n",
      "Full name in reverse order is:-    riaN htijayruS\n",
      "\n",
      "\n"
     ]
    }
   ],
   "source": [
    "print(\"\\n\")\n",
    "print (\"Enter First Name:\")\n",
    "x=input()\n",
    "print(\"\\n\")\n",
    "print (\"Enter Second Name:\")\n",
    "y=input()\n",
    "print(\"\\n\")\n",
    "print(\"Full name in reverse order is:-    \"+y[::-1]+\" \"+x[::-1])\n",
    "print(\"\\n\")"
   ]
  },
  {
   "cell_type": "markdown",
   "metadata": {},
   "source": [
    "."
   ]
  },
  {
   "cell_type": "markdown",
   "metadata": {},
   "source": [
    "3.Write a Python program to find the volume of a sphere with diameter 12 cm."
   ]
  },
  {
   "cell_type": "code",
   "execution_count": 27,
   "metadata": {},
   "outputs": [
    {
     "name": "stdout",
     "output_type": "stream",
     "text": [
      "\n",
      "\n",
      "Enter diameter of sphere:-\n",
      "12\n",
      "\n",
      "\n",
      "Volume of sphere is 904.3199999999999\n",
      "\n",
      "\n"
     ]
    }
   ],
   "source": [
    "pie=3.14\n",
    "print(\"\\n\")\n",
    "print(\"Enter diameter of sphere:-\")\n",
    "d=int(input())\n",
    "print(\"\\n\")\n",
    "r=(d/2)\n",
    "v=4/3*pie*r**3\n",
    "print (\"Volume of sphere is\",v)\n",
    "print(\"\\n\")"
   ]
  },
  {
   "cell_type": "code",
   "execution_count": null,
   "metadata": {},
   "outputs": [],
   "source": []
  }
 ],
 "metadata": {
  "kernelspec": {
   "display_name": "Python 3",
   "language": "python",
   "name": "python3"
  },
  "language_info": {
   "codemirror_mode": {
    "name": "ipython",
    "version": 3
   },
   "file_extension": ".py",
   "mimetype": "text/x-python",
   "name": "python",
   "nbconvert_exporter": "python",
   "pygments_lexer": "ipython3",
   "version": "3.7.6"
  }
 },
 "nbformat": 4,
 "nbformat_minor": 4
}
