{
 "cells": [
  {
   "cell_type": "markdown",
   "metadata": {},
   "source": [
    "."
   ]
  },
  {
   "cell_type": "markdown",
   "metadata": {},
   "source": [
    "."
   ]
  },
  {
   "cell_type": "markdown",
   "metadata": {},
   "source": [
    "1.1 Write a program with class concept to find the area of the triangle using formula\n",
    "area=(s*(s-a)*(s-b)*(s-c))**0.5 \n",
    "function to take the length of the sides of triangle from the user should be defined in the parent \n",
    "class and function to calculate the area should be defined in subclass"
   ]
  },
  {
   "cell_type": "code",
   "execution_count": 2,
   "metadata": {},
   "outputs": [
    {
     "name": "stdout",
     "output_type": "stream",
     "text": [
      "\n",
      "***********************\n",
      "Enter the length of each sides: \n",
      "\n",
      "\n",
      " Length of side a: \n",
      "5\n",
      "Length of side b: \n",
      "6\n",
      "Length of side c: \n",
      "9\n",
      "\n",
      "\n",
      "The Area of triangle is 14.142135623730951\n",
      "\n",
      "********************\n"
     ]
    }
   ],
   "source": [
    "class Triangle:\n",
    "    def __init__(self):\n",
    "        print(\"\\n***********************\\nEnter the length of each sides: \\n\\n\\n Length of side a: \")\n",
    "        self.a=float(input())\n",
    "        print(\"Length of side b: \")\n",
    "        self.b=float(input())\n",
    "        print(\"Length of side c: \")\n",
    "        self.c=float(input())\n",
    "        self.s=(self.a+self.b+self.c)/2\n",
    "        \n",
    "class Calculation(Triangle):\n",
    "    def __init__(self):\n",
    "        super().__init__()\n",
    "        self.Area=(self.s*(self.s-self.a)*(self.s-self.b)*(self.s-self.c))**0.5\n",
    "    def __str__(self):\n",
    "        return '\\n\\nThe Area of triangle is {}\\n\\n********************'.format(self.Area) \n",
    "print(Calculation())"
   ]
  },
  {
   "cell_type": "markdown",
   "metadata": {},
   "source": [
    "1.2 Write a filter_long_words() that takes a list of words and an integer n and returns the list of words that are longer than n"
   ]
  },
  {
   "cell_type": "code",
   "execution_count": 3,
   "metadata": {},
   "outputs": [
    {
     "name": "stdout",
     "output_type": "stream",
     "text": [
      "\n",
      "***********************\n",
      "Enter the words that needs to be filtered out seperate words with comma ( , ) : \n",
      "tctuiyv,yygy,hg,ky\n",
      "\n",
      "\n",
      "Enter minimum number of length elible for filtering (in number): \n",
      "4\n",
      "\n",
      "\n",
      "Filtered words are: ['tctuiyv', 'yygy']\n",
      "\n",
      "***************************\n"
     ]
    }
   ],
   "source": [
    "def filter_long_words():\n",
    "    print(\"\\n***********************\\nEnter the words that needs to be filtered out seperate words with comma ( , ) : \")\n",
    "    a=input()\n",
    "    print(\"\\n\\nEnter minimum number of length elible for filtering (in number): \")\n",
    "    c=int(input())\n",
    "    a=a.split(',')\n",
    "    h=[]\n",
    "    for i in a:\n",
    "        if(len(i)>=c):\n",
    "            h.append(i)\n",
    "    print(\"\\n\\nFiltered words are: {}\\n\\n***************************\".format(h))\n",
    "filter_long_words()"
   ]
  },
  {
   "cell_type": "markdown",
   "metadata": {},
   "source": [
    "2.1 Write a python program using function concept that maps list of words into list of integers representing the lengths of corresponding words."
   ]
  },
  {
   "cell_type": "code",
   "execution_count": 22,
   "metadata": {},
   "outputs": [
    {
     "name": "stdout",
     "output_type": "stream",
     "text": [
      "\n",
      "***********************\n",
      "\n",
      "Converted list is: [2, 3, 4] \n",
      "\n",
      "***********************\n",
      "\n"
     ]
    }
   ],
   "source": [
    "\n",
    "def Conv_to_length(l):\n",
    "    g=[]\n",
    "    for i in l:\n",
    "        g.append(len(i))\n",
    "    return g\n",
    "print(\"\\n***********************\\n\\nConverted list is: {} \\n\\n***********************\\n\".format(Conv_to_length([\"ab\",\"cde\",\"erty\"])))"
   ]
  },
  {
   "cell_type": "markdown",
   "metadata": {},
   "source": [
    "2.2 Write a python function which takes a charater and returns True if it is a vowel, False otherwise"
   ]
  },
  {
   "cell_type": "code",
   "execution_count": 46,
   "metadata": {},
   "outputs": [
    {
     "name": "stdout",
     "output_type": "stream",
     "text": [
      "\n",
      "\n",
      "**********************\n",
      "\n",
      "Enter a character: \n",
      "u\n",
      "\n",
      "True\n",
      "\n",
      "***********************\n",
      "\n",
      "\n"
     ]
    }
   ],
   "source": [
    "def Check_is_vowel():\n",
    "    vowel=[\"a\",\"e\",\"i\",\"o\",\"u\"]\n",
    "    print(\"\\n\\n**********************\\n\\nEnter a character: \")\n",
    "    character=input()\n",
    "    for i in vowel:\n",
    "        if(i==character):\n",
    "            return True\n",
    "    else:\n",
    "        return False\n",
    "v=Check_is_vowel()\n",
    "print(\"\\n{}\\n\\n***********************\\n\\n\".format(v))"
   ]
  },
  {
   "cell_type": "code",
   "execution_count": null,
   "metadata": {},
   "outputs": [],
   "source": []
  }
 ],
 "metadata": {
  "kernelspec": {
   "display_name": "Python 3",
   "language": "python",
   "name": "python3"
  },
  "language_info": {
   "codemirror_mode": {
    "name": "ipython",
    "version": 3
   },
   "file_extension": ".py",
   "mimetype": "text/x-python",
   "name": "python",
   "nbconvert_exporter": "python",
   "pygments_lexer": "ipython3",
   "version": "3.7.6"
  }
 },
 "nbformat": 4,
 "nbformat_minor": 4
}
