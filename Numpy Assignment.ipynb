{
 "cells": [
  {
   "cell_type": "markdown",
   "metadata": {},
   "source": [
    "."
   ]
  },
  {
   "cell_type": "markdown",
   "metadata": {},
   "source": [
    "Q: Write a function so that the columns of the output matrix are powers of the input\n",
    "vector."
   ]
  },
  {
   "cell_type": "code",
   "execution_count": 1,
   "metadata": {},
   "outputs": [],
   "source": [
    "#Creatibg vander function:-\n",
    "import numpy as np\n",
    "def Vander(mylist,N):\n",
    "    x = np.array(mylist)\n",
    "    return np.sort(np.column_stack([x**(N-1-i) for i in range(N)]))"
   ]
  },
  {
   "cell_type": "code",
   "execution_count": 2,
   "metadata": {},
   "outputs": [
    {
     "data": {
      "text/plain": [
       "array([[ 1,  1,  1],\n",
       "       [ 1,  2,  4],\n",
       "       [ 1,  3,  9],\n",
       "       [ 1,  5, 25]], dtype=int32)"
      ]
     },
     "execution_count": 2,
     "metadata": {},
     "output_type": "execute_result"
    }
   ],
   "source": [
    "mylist=[1, 2, 3, 5]\n",
    "N=3\n",
    "h=Vander(mylist,N)\n",
    "h"
   ]
  },
  {
   "cell_type": "code",
   "execution_count": 3,
   "metadata": {},
   "outputs": [
    {
     "data": {
      "text/plain": [
       "array([[ 1,  1,  1],\n",
       "       [ 1,  2,  4],\n",
       "       [ 1,  3,  9],\n",
       "       [ 1,  5, 25]])"
      ]
     },
     "execution_count": 3,
     "metadata": {},
     "output_type": "execute_result"
    }
   ],
   "source": [
    "#This  can also be done using numpy vander function as follows:-\n",
    "np.vander(mylist, N, increasing=True)"
   ]
  },
  {
   "cell_type": "markdown",
   "metadata": {},
   "source": [
    "."
   ]
  },
  {
   "cell_type": "markdown",
   "metadata": {},
   "source": [
    "."
   ]
  },
  {
   "cell_type": "markdown",
   "metadata": {},
   "source": [
    "Q: Write a function to find moving average in an array over a window:\n",
    "Test it over [3, 5, 7, 2, 8, 10, 11, 65, 72, 81, 99, 100, 150] and window of 3."
   ]
  },
  {
   "cell_type": "code",
   "execution_count": 4,
   "metadata": {},
   "outputs": [],
   "source": [
    "def moving_average(mynewlist,k):\n",
    "    g=np.array(mynewlist)\n",
    "    s=g.size\n",
    "    l={}\n",
    "    for i in range(s-k+1):\n",
    "        p=[]\n",
    "        for j in range(k):\n",
    "             p.append(g[j+i])\n",
    "        l[\"Y\"+str(i+1)]=(sum(p)/k)\n",
    "    return list(l.items()),s-k+1"
   ]
  },
  {
   "cell_type": "code",
   "execution_count": 9,
   "metadata": {},
   "outputs": [
    {
     "name": "stdout",
     "output_type": "stream",
     "text": [
      "Moving average sequence has n-k+1 value:  11\n",
      "Moving averages:\n"
     ]
    },
    {
     "data": {
      "text/plain": [
       "array([['Y1', '5.0'],\n",
       "       ['Y2', '4.666666666666667'],\n",
       "       ['Y3', '5.666666666666667'],\n",
       "       ['Y4', '6.666666666666667'],\n",
       "       ['Y5', '9.666666666666666'],\n",
       "       ['Y6', '28.666666666666668'],\n",
       "       ['Y7', '49.333333333333336'],\n",
       "       ['Y8', '72.66666666666667'],\n",
       "       ['Y9', '84.0'],\n",
       "       ['Y10', '93.33333333333333'],\n",
       "       ['Y11', '116.33333333333333']], dtype='<U18')"
      ]
     },
     "execution_count": 9,
     "metadata": {},
     "output_type": "execute_result"
    }
   ],
   "source": [
    "mynewlist=[3,5,7,2,8,10,11,65,72,81,99,100,150]\n",
    "window=3\n",
    "mva,moving_average_sequence=moving_average(mynewlist,window)\n",
    "print(\"Moving average sequence has n-k+1 value: \",moving_average_sequence)\n",
    "print(\"Moving averages:\")\n",
    "np.array(mva)"
   ]
  },
  {
   "cell_type": "markdown",
   "metadata": {},
   "source": [
    "."
   ]
  },
  {
   "cell_type": "markdown",
   "metadata": {},
   "source": [
    "."
   ]
  },
  {
   "cell_type": "code",
   "execution_count": null,
   "metadata": {},
   "outputs": [],
   "source": []
  }
 ],
 "metadata": {
  "kernelspec": {
   "display_name": "Python 3",
   "language": "python",
   "name": "python3"
  },
  "language_info": {
   "codemirror_mode": {
    "name": "ipython",
    "version": 3
   },
   "file_extension": ".py",
   "mimetype": "text/x-python",
   "name": "python",
   "nbconvert_exporter": "python",
   "pygments_lexer": "ipython3",
   "version": "3.7.6"
  }
 },
 "nbformat": 4,
 "nbformat_minor": 4
}
